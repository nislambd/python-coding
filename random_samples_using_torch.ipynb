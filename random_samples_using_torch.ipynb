{
 "cells": [
  {
   "cell_type": "markdown",
   "id": "1967d98e",
   "metadata": {},
   "source": [
    "# Generating random samples using Torch"
   ]
  },
  {
   "cell_type": "code",
   "execution_count": 3,
   "id": "fb2d2695",
   "metadata": {},
   "outputs": [
    {
     "data": {
      "text/plain": [
       "tensor([3, 8, 8, 0, 0, 1, 3, 8, 8, 3, 5, 0, 6, 5, 3, 0, 6, 2, 2, 0])"
      ]
     },
     "execution_count": 3,
     "metadata": {},
     "output_type": "execute_result"
    }
   ],
   "source": [
    "import torch\n",
    "\n",
    "g = torch.Generator().manual_seed(42) # Set a manual seed for reproducibility (https://docs.pytorch.org/docs/stable/generated/torch.Generator.html)\n",
    "\n",
    "# Generate a random number \n",
    "r = torch.rand(10, generator=g)\n",
    "torch.multinomial(r, 20, replacement=True, generator=g)"
   ]
  }
 ],
 "metadata": {
  "kernelspec": {
   "display_name": ".venv",
   "language": "python",
   "name": "python3"
  },
  "language_info": {
   "codemirror_mode": {
    "name": "ipython",
    "version": 3
   },
   "file_extension": ".py",
   "mimetype": "text/x-python",
   "name": "python",
   "nbconvert_exporter": "python",
   "pygments_lexer": "ipython3",
   "version": "3.13.3"
  }
 },
 "nbformat": 4,
 "nbformat_minor": 5
}
